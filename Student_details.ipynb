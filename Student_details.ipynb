{
 "cells": [
  {
   "cell_type": "markdown",
   "id": "e297d1b2",
   "metadata": {},
   "source": [
    "# STUDENT DETAILS"
   ]
  },
  {
   "cell_type": "code",
   "execution_count": 1,
   "id": "3595ca31",
   "metadata": {},
   "outputs": [
    {
     "data": {
      "text/html": [
       "<div>\n",
       "<style scoped>\n",
       "    .dataframe tbody tr th:only-of-type {\n",
       "        vertical-align: middle;\n",
       "    }\n",
       "\n",
       "    .dataframe tbody tr th {\n",
       "        vertical-align: top;\n",
       "    }\n",
       "\n",
       "    .dataframe thead th {\n",
       "        text-align: right;\n",
       "    }\n",
       "</style>\n",
       "<table border=\"1\" class=\"dataframe\">\n",
       "  <thead>\n",
       "    <tr style=\"text-align: right;\">\n",
       "      <th></th>\n",
       "      <th>_id</th>\n",
       "      <th>name</th>\n",
       "      <th>exam_score</th>\n",
       "      <th>quiz_score</th>\n",
       "      <th>homework_score</th>\n",
       "    </tr>\n",
       "  </thead>\n",
       "  <tbody>\n",
       "    <tr>\n",
       "      <th>0</th>\n",
       "      <td>5000</td>\n",
       "      <td>aimee Zank</td>\n",
       "      <td>1.463180</td>\n",
       "      <td>11.782733</td>\n",
       "      <td>11.782733</td>\n",
       "    </tr>\n",
       "    <tr>\n",
       "      <th>1</th>\n",
       "      <td>5001</td>\n",
       "      <td>Aurelia Menendez</td>\n",
       "      <td>60.060451</td>\n",
       "      <td>52.797907</td>\n",
       "      <td>52.797907</td>\n",
       "    </tr>\n",
       "    <tr>\n",
       "      <th>2</th>\n",
       "      <td>5002</td>\n",
       "      <td>Corliss Zuk</td>\n",
       "      <td>67.030771</td>\n",
       "      <td>6.301852</td>\n",
       "      <td>6.301852</td>\n",
       "    </tr>\n",
       "    <tr>\n",
       "      <th>3</th>\n",
       "      <td>5003</td>\n",
       "      <td>Bao Ziglar</td>\n",
       "      <td>71.643439</td>\n",
       "      <td>24.802213</td>\n",
       "      <td>24.802213</td>\n",
       "    </tr>\n",
       "    <tr>\n",
       "      <th>4</th>\n",
       "      <td>5004</td>\n",
       "      <td>Zachary Langlais</td>\n",
       "      <td>78.683851</td>\n",
       "      <td>90.296310</td>\n",
       "      <td>90.296310</td>\n",
       "    </tr>\n",
       "  </tbody>\n",
       "</table>\n",
       "</div>"
      ],
      "text/plain": [
       "    _id              name  exam_score  quiz_score  homework_score\n",
       "0  5000        aimee Zank    1.463180   11.782733       11.782733\n",
       "1  5001  Aurelia Menendez   60.060451   52.797907       52.797907\n",
       "2  5002       Corliss Zuk   67.030771    6.301852        6.301852\n",
       "3  5003        Bao Ziglar   71.643439   24.802213       24.802213\n",
       "4  5004  Zachary Langlais   78.683851   90.296310       90.296310"
      ]
     },
     "execution_count": 1,
     "metadata": {},
     "output_type": "execute_result"
    }
   ],
   "source": [
    "# importing libraries\n",
    "import pandas as pd \n",
    "\n",
    "#Loading the json file into pandas dataframe\n",
    "df = pd.read_json('student_details.json', lines=True)\n",
    "df.head()"
   ]
  },
  {
   "cell_type": "code",
   "execution_count": 2,
   "id": "c671dc1c",
   "metadata": {},
   "outputs": [
    {
     "data": {
      "text/plain": [
       "(200, 5)"
      ]
     },
     "execution_count": 2,
     "metadata": {},
     "output_type": "execute_result"
    }
   ],
   "source": [
    "df.shape"
   ]
  },
  {
   "cell_type": "markdown",
   "id": "e2ba0aa5",
   "metadata": {},
   "source": [
    "# Insert new student detail in the list of json "
   ]
  },
  {
   "cell_type": "code",
   "execution_count": 3,
   "id": "94bc3309",
   "metadata": {},
   "outputs": [],
   "source": [
    "def insert_record(name,exam_score,quiz_scores,homework_scores):\n",
    "    \"\"\"\n",
    "    Summary: Inserting a record into a dataframe\n",
    "    Parameters:\n",
    "    arg1 : Name of the student\n",
    "    arg2 : Exam score of that student\n",
    "    arg3 : Quiz score of that student\n",
    "    arg2 : homework score of that student\n",
    "    Returns: None\n",
    "    \n",
    "    \"\"\"\n",
    "    new_id = df['_id'].iloc[-1] +1\n",
    "    df.loc[len(df.index)] = [new_id,name,exam_score,quiz_scores,homework_scores] "
   ]
  },
  {
   "cell_type": "code",
   "execution_count": 4,
   "id": "dd98cde2",
   "metadata": {},
   "outputs": [],
   "source": [
    "insert_record('Isabel Guzman', 88.56, 90.67,78.99)"
   ]
  },
  {
   "cell_type": "code",
   "execution_count": 5,
   "id": "d6bc2d62",
   "metadata": {},
   "outputs": [
    {
     "data": {
      "text/html": [
       "<div>\n",
       "<style scoped>\n",
       "    .dataframe tbody tr th:only-of-type {\n",
       "        vertical-align: middle;\n",
       "    }\n",
       "\n",
       "    .dataframe tbody tr th {\n",
       "        vertical-align: top;\n",
       "    }\n",
       "\n",
       "    .dataframe thead th {\n",
       "        text-align: right;\n",
       "    }\n",
       "</style>\n",
       "<table border=\"1\" class=\"dataframe\">\n",
       "  <thead>\n",
       "    <tr style=\"text-align: right;\">\n",
       "      <th></th>\n",
       "      <th>_id</th>\n",
       "      <th>name</th>\n",
       "      <th>exam_score</th>\n",
       "      <th>quiz_score</th>\n",
       "      <th>homework_score</th>\n",
       "    </tr>\n",
       "  </thead>\n",
       "  <tbody>\n",
       "    <tr>\n",
       "      <th>196</th>\n",
       "      <td>500196</td>\n",
       "      <td>Santiago Dollins</td>\n",
       "      <td>52.040526</td>\n",
       "      <td>33.633001</td>\n",
       "      <td>33.633001</td>\n",
       "    </tr>\n",
       "    <tr>\n",
       "      <th>197</th>\n",
       "      <td>500197</td>\n",
       "      <td>Tonisha Games</td>\n",
       "      <td>38.512696</td>\n",
       "      <td>31.162876</td>\n",
       "      <td>31.162876</td>\n",
       "    </tr>\n",
       "    <tr>\n",
       "      <th>198</th>\n",
       "      <td>500198</td>\n",
       "      <td>Timothy Harrod</td>\n",
       "      <td>11.907567</td>\n",
       "      <td>20.518800</td>\n",
       "      <td>20.518800</td>\n",
       "    </tr>\n",
       "    <tr>\n",
       "      <th>199</th>\n",
       "      <td>500199</td>\n",
       "      <td>Rae Kohout</td>\n",
       "      <td>82.117426</td>\n",
       "      <td>49.612955</td>\n",
       "      <td>49.612955</td>\n",
       "    </tr>\n",
       "    <tr>\n",
       "      <th>200</th>\n",
       "      <td>500200</td>\n",
       "      <td>Isabel Guzman</td>\n",
       "      <td>88.560000</td>\n",
       "      <td>90.670000</td>\n",
       "      <td>78.990000</td>\n",
       "    </tr>\n",
       "  </tbody>\n",
       "</table>\n",
       "</div>"
      ],
      "text/plain": [
       "        _id              name  exam_score  quiz_score  homework_score\n",
       "196  500196  Santiago Dollins   52.040526   33.633001       33.633001\n",
       "197  500197     Tonisha Games   38.512696   31.162876       31.162876\n",
       "198  500198    Timothy Harrod   11.907567   20.518800       20.518800\n",
       "199  500199        Rae Kohout   82.117426   49.612955       49.612955\n",
       "200  500200     Isabel Guzman   88.560000   90.670000       78.990000"
      ]
     },
     "execution_count": 5,
     "metadata": {},
     "output_type": "execute_result"
    }
   ],
   "source": [
    "df.tail()"
   ]
  },
  {
   "cell_type": "markdown",
   "id": "2cabde65",
   "metadata": {},
   "source": [
    "# Edit already existing student detail"
   ]
  },
  {
   "cell_type": "code",
   "execution_count": 6,
   "id": "50e394f9",
   "metadata": {},
   "outputs": [],
   "source": [
    "def edit_record(id_val,mod_column,mod_value):\n",
    "    \"\"\"\n",
    "    Summary: Modifying an existing record in the dataframe\n",
    "    Note : Record can be modified only using id column, as it is a unique key\n",
    "    Parameters:\n",
    "    arg1 : Student Id\n",
    "    arg2 : The column/field to be modified\n",
    "    arg3 : New value\n",
    "    Returns: None\n",
    "    \n",
    "    \"\"\"\n",
    "    #Obtain index\n",
    "    index_ = df[df['_id']==id_val].index.item()\n",
    "    \n",
    "    #Before editing\n",
    "    print(\"Before editing\")\n",
    "    print(df.iloc[index_])\n",
    "    \n",
    "    #Updating record\n",
    "    df.at[index_,mod_column]= mod_value\n",
    "    \n",
    "    #After modifying\n",
    "    print(f\"\\nAfter editing\")\n",
    "    print(df.iloc[index_])   "
   ]
  },
  {
   "cell_type": "code",
   "execution_count": 7,
   "id": "387fbd17",
   "metadata": {},
   "outputs": [
    {
     "name": "stdout",
     "output_type": "stream",
     "text": [
      "Before editing\n",
      "_id                         500120\n",
      "name              Jenette Flanders\n",
      "exam_score               22.044514\n",
      "quiz_score               22.439581\n",
      "homework_score           22.439581\n",
      "Name: 120, dtype: object\n",
      "\n",
      "After editing\n",
      "_id                         500120\n",
      "name              Jenette Flanders\n",
      "exam_score               22.044514\n",
      "quiz_score               22.439581\n",
      "homework_score                80.6\n",
      "Name: 120, dtype: object\n"
     ]
    }
   ],
   "source": [
    "edit_record(500120,'homework_score',80.6)  "
   ]
  },
  {
   "cell_type": "markdown",
   "id": "dd78d8e2",
   "metadata": {},
   "source": [
    "# Delete an available student detail"
   ]
  },
  {
   "cell_type": "code",
   "execution_count": 8,
   "id": "6ec21464",
   "metadata": {},
   "outputs": [],
   "source": [
    "def delete_record(id_val):\n",
    "    \"\"\"\n",
    "    Summary: Deleting an existing record from the dataframe\n",
    "    Note : Record can be deleted only using id column, as it is a unique key\n",
    "    Parameters:\n",
    "    arg1 : Student Id\n",
    "    Returns: None\n",
    "    \n",
    "    \"\"\"\n",
    "    #Deleting a record\n",
    "    df.drop(df.index[df['_id'] == id_val], inplace=True)\n",
    "    df.reset_index(drop= True,inplace=True)"
   ]
  },
  {
   "cell_type": "code",
   "execution_count": 9,
   "id": "15395d8a",
   "metadata": {},
   "outputs": [],
   "source": [
    "delete_record(500110)"
   ]
  },
  {
   "cell_type": "code",
   "execution_count": 12,
   "id": "49ea5082",
   "metadata": {},
   "outputs": [
    {
     "data": {
      "text/html": [
       "<div>\n",
       "<style scoped>\n",
       "    .dataframe tbody tr th:only-of-type {\n",
       "        vertical-align: middle;\n",
       "    }\n",
       "\n",
       "    .dataframe tbody tr th {\n",
       "        vertical-align: top;\n",
       "    }\n",
       "\n",
       "    .dataframe thead th {\n",
       "        text-align: right;\n",
       "    }\n",
       "</style>\n",
       "<table border=\"1\" class=\"dataframe\">\n",
       "  <thead>\n",
       "    <tr style=\"text-align: right;\">\n",
       "      <th></th>\n",
       "      <th>_id</th>\n",
       "      <th>name</th>\n",
       "      <th>exam_score</th>\n",
       "      <th>quiz_score</th>\n",
       "      <th>homework_score</th>\n",
       "    </tr>\n",
       "  </thead>\n",
       "  <tbody>\n",
       "    <tr>\n",
       "      <th>108</th>\n",
       "      <td>500108</td>\n",
       "      <td>Mikaela Meidinger</td>\n",
       "      <td>63.755951</td>\n",
       "      <td>59.522981</td>\n",
       "      <td>59.522981</td>\n",
       "    </tr>\n",
       "    <tr>\n",
       "      <th>109</th>\n",
       "      <td>500109</td>\n",
       "      <td>Flora Duell</td>\n",
       "      <td>40.682390</td>\n",
       "      <td>46.779720</td>\n",
       "      <td>46.779720</td>\n",
       "    </tr>\n",
       "    <tr>\n",
       "      <th>110</th>\n",
       "      <td>500111</td>\n",
       "      <td>Gennie Ratner</td>\n",
       "      <td>62.743100</td>\n",
       "      <td>92.180138</td>\n",
       "      <td>92.180138</td>\n",
       "    </tr>\n",
       "    <tr>\n",
       "      <th>111</th>\n",
       "      <td>500112</td>\n",
       "      <td>Myrtle Wolfinger</td>\n",
       "      <td>73.938955</td>\n",
       "      <td>35.993970</td>\n",
       "      <td>35.993970</td>\n",
       "    </tr>\n",
       "  </tbody>\n",
       "</table>\n",
       "</div>"
      ],
      "text/plain": [
       "        _id               name  exam_score  quiz_score  homework_score\n",
       "108  500108  Mikaela Meidinger   63.755951   59.522981       59.522981\n",
       "109  500109        Flora Duell   40.682390   46.779720       46.779720\n",
       "110  500111      Gennie Ratner   62.743100   92.180138       92.180138\n",
       "111  500112   Myrtle Wolfinger   73.938955   35.993970       35.993970"
      ]
     },
     "execution_count": 12,
     "metadata": {},
     "output_type": "execute_result"
    }
   ],
   "source": [
    "df[108:112]"
   ]
  }
 ],
 "metadata": {
  "kernelspec": {
   "display_name": "Python 3 (ipykernel)",
   "language": "python",
   "name": "python3"
  },
  "language_info": {
   "codemirror_mode": {
    "name": "ipython",
    "version": 3
   },
   "file_extension": ".py",
   "mimetype": "text/x-python",
   "name": "python",
   "nbconvert_exporter": "python",
   "pygments_lexer": "ipython3",
   "version": "3.8.12"
  }
 },
 "nbformat": 4,
 "nbformat_minor": 5
}
